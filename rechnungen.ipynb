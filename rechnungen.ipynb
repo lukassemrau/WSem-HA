{
 "cells": [
  {
   "cell_type": "markdown",
   "metadata": {},
   "source": [
    "## Berechnungen zur Hausaufgabe\n",
    "Hier sind alle wichtigen Rechnungen zur Hausaufgabe aufgeführt.\n",
    "### Der Zug"
   ]
  },
  {
   "cell_type": "code",
   "execution_count": 12,
   "metadata": {},
   "outputs": [
    {
     "name": "stdout",
     "output_type": "stream",
     "text": [
      "n_max: 828\n",
      "n_ges 703.8\n"
     ]
    }
   ],
   "source": [
    "N = 6                            # Anzahl der Wagons\n",
    "m_Wagon = 21500                  # Masse des Wagons\n",
    "n_Sitz = 46                      # Sitzplätze in einem Wagon\n",
    "n_Wagon = 2*n_Sitz + n_Sitz      # maximale Kapaziät in einem Wagon\n",
    "n_Wagon\n",
    "n_max = N * n_Wagon              # maximale Kapazität im ganzen Zug\n",
    "print(\"n_max:\", n_max) \n",
    "\n",
    "auslastung = 0.85               # Auslastung 85%\n",
    "n_ges = auslastung * n_max      # Pesonen im Zug\n",
    "print(\"n_ges\", n_ges)"
   ]
  },
  {
   "cell_type": "markdown",
   "metadata": {},
   "source": [
    "Im folgenden gehen wir davon aus, dass im Zug 700 Personen sind. Studien ergeben, dass eine durchschnittliche Frau in der USA 76,4kg und der Mann im Durchschnitt 88,8kg wiegt. Geht man davon aus, dass im Zug gleich viele Männer wie Frauen sind, so gilt folgendes: "
   ]
  },
  {
   "cell_type": "code",
   "execution_count": 13,
   "metadata": {},
   "outputs": [
    {
     "name": "stdout",
     "output_type": "stream",
     "text": [
      "Masse der Wagon: 129000\n",
      "Masse der Insassen: 57819.99999999999\n",
      "Gesamtmasse: 186820.0\n"
     ]
    }
   ],
   "source": [
    "n_ges = 700                     # Passagierzahl\n",
    "m_Person = (88.8+76.4)/2        # Masse einer Person\n",
    "m_Insassen = m_Person * n_ges   # Masse aller Insassen\n",
    "\n",
    "m = N * m_Wagon + m_Insassen    # Gesamtmasse\n",
    "\n",
    "print(\"Masse der Wagon:\", N*m_Wagon)\n",
    "print(\"Masse der Insassen:\", m_Insassen)\n",
    "print(\"Gesamtmasse:\", m)"
   ]
  },
  {
   "cell_type": "markdown",
   "metadata": {},
   "source": [
    "### Der Bremsvorgang"
   ]
  },
  {
   "cell_type": "code",
   "execution_count": 14,
   "metadata": {},
   "outputs": [
    {
     "name": "stdout",
     "output_type": "stream",
     "text": [
      "Kraft zum Bremsen: -148472.91164444442\n"
     ]
    }
   ],
   "source": [
    "v0 = 80 * 0.44704       # Anfangsgeschwindigkeit\n",
    "t = 45                  # Zeit zum Bremsen\n",
    "F_Brems = m * (0-v0)/t  # Bremskraft\n",
    "print(\"Kraft zum Bremsen:\", F_Brems)"
   ]
  }
 ],
 "metadata": {
  "kernelspec": {
   "display_name": "Python 3.10.6 64-bit",
   "language": "python",
   "name": "python3"
  },
  "language_info": {
   "codemirror_mode": {
    "name": "ipython",
    "version": 3
   },
   "file_extension": ".py",
   "mimetype": "text/x-python",
   "name": "python",
   "nbconvert_exporter": "python",
   "pygments_lexer": "ipython3",
   "version": "3.10.6"
  },
  "orig_nbformat": 4,
  "vscode": {
   "interpreter": {
    "hash": "d4257b42c6ba42eda50dafbc529d35dd145d7d2313c9a8d511d215e3cec8573f"
   }
  }
 },
 "nbformat": 4,
 "nbformat_minor": 2
}
