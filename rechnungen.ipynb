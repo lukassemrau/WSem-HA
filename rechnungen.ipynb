{
 "cells": [
  {
   "cell_type": "code",
   "execution_count": 38,
   "metadata": {},
   "outputs": [],
   "source": [
    "# Pakete \n",
    "import matplotlib.pyplot as plt\n",
    "import numpy as np"
   ]
  },
  {
   "cell_type": "markdown",
   "metadata": {},
   "source": [
    "## Berechnungen zur Hausaufgabe\n",
    "Hier sind alle wichtigen Rechnungen zur Hausaufgabe aufgeführt. Es wurden SI-Einheiten verwendet.\n",
    "### Der Zug"
   ]
  },
  {
   "cell_type": "code",
   "execution_count": 39,
   "metadata": {},
   "outputs": [
    {
     "name": "stdout",
     "output_type": "stream",
     "text": [
      "n_max: 828\n",
      "n_ges 703.8\n"
     ]
    }
   ],
   "source": [
    "N = 6                            # Anzahl der Wagons\n",
    "m_Wagon = 21500                  # Masse des Wagons\n",
    "n_Sitz = 46                      # Sitzplätze in einem Wagon\n",
    "n_Wagon = 2*n_Sitz + n_Sitz      # maximale Kapaziät in einem Wagon\n",
    "n_Wagon\n",
    "n_max = N * n_Wagon              # maximale Kapazität im ganzen Zug\n",
    "print(\"n_max:\", n_max) \n",
    "\n",
    "auslastung = 0.85               # Auslastung 85%\n",
    "n_ges = auslastung * n_max      # Pesonen im Zug\n",
    "print(\"n_ges\", n_ges)"
   ]
  },
  {
   "cell_type": "markdown",
   "metadata": {},
   "source": [
    "Im folgenden gehen wir davon aus, dass im Zug 700 Personen sind. Studien ergeben, dass eine durchschnittliche Frau in der USA 76,4kg und der Mann im Durchschnitt 88,8kg wiegt. Geht man davon aus, dass im Zug gleich viele Männer wie Frauen sind, so gilt folgendes: "
   ]
  },
  {
   "cell_type": "code",
   "execution_count": 40,
   "metadata": {},
   "outputs": [
    {
     "name": "stdout",
     "output_type": "stream",
     "text": [
      "Masse der Wagon: 129000\n",
      "Masse der Insassen: 57819.99999999999\n",
      "Gesamtmasse: 186820.0\n"
     ]
    }
   ],
   "source": [
    "n_ges = 700                     # Passagierzahl\n",
    "m_Person = (88.8+76.4)/2        # Masse einer Person\n",
    "m_Insassen = m_Person * n_ges   # Masse aller Insassen\n",
    "\n",
    "m = N * m_Wagon + m_Insassen    # Gesamtmasse\n",
    "\n",
    "print(\"Masse der Wagon:\", N*m_Wagon)\n",
    "print(\"Masse der Insassen:\", m_Insassen)\n",
    "print(\"Gesamtmasse:\", m)"
   ]
  },
  {
   "cell_type": "markdown",
   "metadata": {},
   "source": [
    "### Der Bremsvorgang"
   ]
  },
  {
   "cell_type": "code",
   "execution_count": 41,
   "metadata": {},
   "outputs": [
    {
     "name": "stdout",
     "output_type": "stream",
     "text": [
      "Kraft zum Bremsen: -148472.91164444442\n"
     ]
    }
   ],
   "source": [
    "v0 = 80 * 0.44704       # Anfangsgeschwindigkeit\n",
    "t = 45                  # Zeit zum Bremsen\n",
    "F_Brems = m * (0-v0)/t  # Bremskraft\n",
    "print(\"Kraft zum Bremsen:\", F_Brems)"
   ]
  },
  {
   "cell_type": "markdown",
   "metadata": {},
   "source": [
    "## Die Fäden\n",
    "Bei den Fäden kann mit der Formel $F=\\sigma \\cdot A$ ($\\sigma$ ist Zugfestigkeit und $A$ die Querschnittsfläche). Es ist relativ schwer den Durchmesser eines Fadens zu bestimmen. Deshalb werden hier zwei Wege berechnet:\n",
    "1. Das Fadenbündel (á 8 Fäden) hat einen Durchmesser von $d_f=0,02\\mathrm m$ ein Faden hat dann also Durchmesser von $d_1= (0,02/8)\\mathrm m$\n",
    "2. Das Fadenbündel wird als eine Fläche berechnet. Danch wird diese durch 8 geteilt und mit der anderen Seite verrechnet."
   ]
  },
  {
   "cell_type": "code",
   "execution_count": 42,
   "metadata": {},
   "outputs": [],
   "source": [
    "sigma = 1.1*10**9\n",
    "d_faden = 0.02\n",
    "\n",
    "def Q(d):\n",
    "    return np.pi*(d/2)**2\n",
    "def F_n(d, q):                  # q ist ein Faktor, der die Querschnittsläche multipliziert.\n",
    "    return sigma * q * Q(d)"
   ]
  },
  {
   "cell_type": "markdown",
   "metadata": {},
   "source": [
    "#### Rechung 1"
   ]
  },
  {
   "cell_type": "code",
   "execution_count": 43,
   "metadata": {},
   "outputs": [
    {
     "name": "stdout",
     "output_type": "stream",
     "text": [
      "Durchmesser eines Faden: 0.0025\n",
      "Kraft, die von den Fäden ausgeht: 86393.79797371931\n",
      "Anteil an der Benötigten Kraft: 0.5818825603731063\n"
     ]
    }
   ],
   "source": [
    "d1 = d_faden/8\n",
    "print(\"Durchmesser eines Faden:\", d1)\n",
    "Q(d1)       # Querschnitt eines Fadens\n",
    "q = 16      # insgesamt 16 Fäden\n",
    "print(\"Kraft, die von den Fäden ausgeht:\", F_n(d1, q))  # Kraft, die von den Fäden ausgeht\n",
    "\n",
    "print(\"Anteil an der Benötigten Kraft:\", F_n(d1, q)/abs(F_Brems))"
   ]
  },
  {
   "cell_type": "markdown",
   "metadata": {},
   "source": [
    "Nach dieser Rechenart ist die Rettungsaktion *nicht* möglich!"
   ]
  },
  {
   "cell_type": "markdown",
   "metadata": {},
   "source": [
    "### Kraft von Fäden im Abhändigkeit von $d$"
   ]
  },
  {
   "cell_type": "code",
   "execution_count": 44,
   "metadata": {},
   "outputs": [],
   "source": [
    "\n",
    "def quot(d, q):\n",
    "    return F_n(d, q) / abs(F_Brems)"
   ]
  },
  {
   "cell_type": "code",
   "execution_count": 45,
   "metadata": {},
   "outputs": [
    {
     "data": {
      "text/plain": [
       "[<matplotlib.lines.Line2D at 0x2a7ff18c040>]"
      ]
     },
     "execution_count": 45,
     "metadata": {},
     "output_type": "execute_result"
    },
    {
     "data": {
      "image/png": "[encoded data removed]",
      "text/plain": [
       "<Figure size 432x288 with 1 Axes>"
      ]
     },
     "metadata": {
      "needs_background": "light"
     },
     "output_type": "display_data"
    }
   ],
   "source": [
    "d = np.linspace(0, 0.03, 1000)\n",
    "plt.grid()\n",
    "plt.ylabel(\"F_n/F_Brems\")\n",
    "plt.xlabel(\"d [m]\")\n",
    "plt.plot(d, quot(d, 1), c = 'black')"
   ]
  }
 ],
 "metadata": {
  "kernelspec": {
   "display_name": "Python 3.10.6 64-bit",
   "language": "python",
   "name": "python3"
  },
  "language_info": {
   "codemirror_mode": {
    "name": "ipython",
    "version": 3
   },
   "file_extension": ".py",
   "mimetype": "text/x-python",
   "name": "python",
   "nbconvert_exporter": "python",
   "pygments_lexer": "ipython3",
   "version": "3.10.6"
  },
  "orig_nbformat": 4,
  "vscode": {
   "interpreter": {
    "hash": "d4257b42c6ba42eda50dafbc529d35dd145d7d2313c9a8d511d215e3cec8573f"
   }
  }
 },
 "nbformat": 4,
 "nbformat_minor": 2
}
