{
 "cells": [
  {
   "cell_type": "markdown",
   "metadata": {},
   "source": [
    "## Berechnungen zur Hausaufgabe\n",
    "Hier sind alle wichtigen Rechnungen zur Hausaufgabe aufgeführt.\n",
    "### Der Zug"
   ]
  },
  {
   "cell_type": "code",
   "execution_count": 5,
   "metadata": {},
   "outputs": [
    {
     "data": {
      "text/plain": [
       "703.8"
      ]
     },
     "execution_count": 5,
     "metadata": {},
     "output_type": "execute_result"
    }
   ],
   "source": [
    "N = 6                            # Anzahl der Wagons\n",
    "m_Wagon = 21500                  # Masse des Wagons\n",
    "n_Sitz = 46                      # Sitzplätze in einem Wagon\n",
    "n_Wagon = 2*n_Sitz + n_Sitz      # maximale Kapaziät in einem Wagon\n",
    "n_Wagon\n",
    "n_max = N * n_Wagon              # maximale Kapazität im ganzen Zug\n",
    "n_max \n",
    "\n",
    "auslastung = 0.85               # Auslastung 85%\n",
    "n_ges = auslastung * n_max      # Pesonen im Zug\n",
    "n_ges"
   ]
  },
  {
   "cell_type": "markdown",
   "metadata": {},
   "source": [
    "Im folgenden gehen wir davon aus, dass im Zug 700 Personen sind."
   ]
  }
 ],
 "metadata": {
  "kernelspec": {
   "display_name": "Python 3.10.6 64-bit",
   "language": "python",
   "name": "python3"
  },
  "language_info": {
   "codemirror_mode": {
    "name": "ipython",
    "version": 3
   },
   "file_extension": ".py",
   "mimetype": "text/x-python",
   "name": "python",
   "nbconvert_exporter": "python",
   "pygments_lexer": "ipython3",
   "version": "3.10.6"
  },
  "orig_nbformat": 4,
  "vscode": {
   "interpreter": {
    "hash": "d4257b42c6ba42eda50dafbc529d35dd145d7d2313c9a8d511d215e3cec8573f"
   }
  }
 },
 "nbformat": 4,
 "nbformat_minor": 2
}
